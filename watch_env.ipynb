{
 "cells": [
  {
   "cell_type": "code",
   "execution_count": 1,
   "metadata": {},
   "outputs": [],
   "source": [
    "import pickle\n",
    "import torch\n",
    "import time\n",
    "import torch.nn as nn\n",
    "import torch.nn.functional as F\n",
    "import torch.optim as optim\n",
    "import numpy as np\n",
    "import gym\n",
    "import cv2\n",
    "import cma\n",
    "\n",
    "from VAE import VAE\n",
    "from VAE import VAE_DataSet\n",
    "from VAE_Trainer import VAE_Trainer\n",
    "\n",
    "from MDN_RNN import MDN_RNN\n",
    "from MDN_RNN import MDN_RNN_DataSet\n",
    "from MDN_RNN_Trainer import MDN_RNN_Trainer\n",
    "\n",
    "from Controller import Controller\n",
    "\n",
    "from World_Model import World_Model\n",
    "from Env_Runner import Env_Runner\n",
    "\n",
    "from Env_CarRacingDream import CarRacingDream\n",
    "\n",
    "import matplotlib.pyplot as plt\n",
    "%matplotlib inline\n",
    "device = torch.device('cpu')"
   ]
  },
  {
   "cell_type": "code",
   "execution_count": 2,
   "metadata": {},
   "outputs": [
    {
     "name": "stdout",
     "output_type": "stream",
     "text": [
      "Track generation: 973..1226 -> 253-tiles track\n"
     ]
    }
   ],
   "source": [
    "weights = pickle.load( open( \"network_76.pt\", \"rb\" ) )\n",
    "\n",
    "w = weights[0:3*288] \n",
    "b = weights[3*288::]\n",
    "\n",
    "w = nn.Parameter(torch.tensor(np.reshape(w,(3,288))).type('torch.FloatTensor'))\n",
    "b = nn.Parameter(torch.tensor(b).type('torch.FloatTensor'))\n",
    "\n",
    "wm = World_Model(\"D:\\\\Implementation_Schmidhuber\\\\vae.pt\",\n",
    "         \"D:\\\\Implementation_Schmidhuber\\\\mdn_rnn.pt\",\n",
    "         3, device, random=False)\n",
    "\n",
    "wm.set_controller(w,b)\n",
    "env = gym.make(\"CarRacing-v0\")\n",
    "runner = Env_Runner(device)\n",
    "runner.render(env, wm, video=True)\n",
    "env.close()"
   ]
  }
 ],
 "metadata": {
  "kernelspec": {
   "display_name": "Python 3",
   "language": "python",
   "name": "python3"
  },
  "language_info": {
   "codemirror_mode": {
    "name": "ipython",
    "version": 3
   },
   "file_extension": ".py",
   "mimetype": "text/x-python",
   "name": "python",
   "nbconvert_exporter": "python",
   "pygments_lexer": "ipython3",
   "version": "3.6.5"
  }
 },
 "nbformat": 4,
 "nbformat_minor": 2
}
